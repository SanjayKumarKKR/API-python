{
  "nbformat": 4,
  "nbformat_minor": 0,
  "metadata": {
    "kernelspec": {
      "display_name": "Python 3",
      "language": "python",
      "name": "python3"
    },
    "language_info": {
      "codemirror_mode": {
        "name": "ipython",
        "version": 3
      },
      "file_extension": ".py",
      "mimetype": "text/x-python",
      "name": "python",
      "nbconvert_exporter": "python",
      "pygments_lexer": "ipython3",
      "version": "3.7.4"
    },
    "colab": {
      "name": "CB.EN.U4CSE17149-Q2.ipynb",
      "provenance": [],
      "toc_visible": true
    }
  },
  "cells": [
    {
      "cell_type": "code",
      "metadata": {
        "id": "iEoP83Pf80eX",
        "colab_type": "code",
        "colab": {}
      },
      "source": [
        "import requests\n",
        "from urllib.request import urlopen,build_opener,HTTPCookieProcessor\n",
        "import urllib.error\n",
        "import urllib\n",
        "from bs4 import BeautifulSoup\n",
        "import json\n",
        "import pandas as pd\n",
        "\n",
        "url='https://o136z8hk40.execute-api.us-east-1.amazonaws.com/dev/get-list-of-conferences' \n",
        "r = urllib.request.urlopen(url)\n",
        "data = json.loads(r.read().decode(r.info().get_param('charset') or 'utf-8'))"
      ],
      "execution_count": 0,
      "outputs": []
    },
    {
      "cell_type": "code",
      "metadata": {
        "id": "_dxcTxKZ-lY8",
        "colab_type": "code",
        "colab": {}
      },
      "source": [
        "out=[]\n",
        "for info in data['paid']:\n",
        "    curdata=[info]\n",
        "    row=[]\n",
        "    for k in curdata[0].keys():\n",
        "      row.append(curdata[0][k])\n",
        "    out.append(row)\n",
        "out\n"
      ],
      "execution_count": 0,
      "outputs": []
    },
    {
      "cell_type": "code",
      "metadata": {
        "id": "6iwH5wsr80fC",
        "colab_type": "code",
        "outputId": "9258f2ce-99a4-491b-ae9c-8068ef871c76",
        "colab": {
          "base_uri": "https://localhost:8080/",
          "height": 585
        }
      },
      "source": [
        "total.head()"
      ],
      "execution_count": 47,
      "outputs": [
        {
          "output_type": "execute_result",
          "data": {
            "text/html": [
              "<div>\n",
              "<style scoped>\n",
              "    .dataframe tbody tr th:only-of-type {\n",
              "        vertical-align: middle;\n",
              "    }\n",
              "\n",
              "    .dataframe tbody tr th {\n",
              "        vertical-align: top;\n",
              "    }\n",
              "\n",
              "    .dataframe thead th {\n",
              "        text-align: right;\n",
              "    }\n",
              "</style>\n",
              "<table border=\"1\" class=\"dataframe\">\n",
              "  <thead>\n",
              "    <tr style=\"text-align: right;\">\n",
              "      <th></th>\n",
              "      <th>emailId</th>\n",
              "      <th>city</th>\n",
              "      <th>twitter_handle</th>\n",
              "      <th>keywordSupport</th>\n",
              "      <th>country</th>\n",
              "      <th>imageURL</th>\n",
              "      <th>venue</th>\n",
              "      <th>searchTerms</th>\n",
              "      <th>confName</th>\n",
              "      <th>state</th>\n",
              "      <th>long</th>\n",
              "      <th>confEndDate</th>\n",
              "      <th>conference_id</th>\n",
              "      <th>lat</th>\n",
              "      <th>user_id</th>\n",
              "      <th>confUrl</th>\n",
              "      <th>confStartDate</th>\n",
              "      <th>entryType</th>\n",
              "      <th>confRegUrl</th>\n",
              "    </tr>\n",
              "  </thead>\n",
              "  <tbody>\n",
              "    <tr>\n",
              "      <th>0</th>\n",
              "      <td></td>\n",
              "      <td>San Antonio</td>\n",
              "      <td>@shambanit</td>\n",
              "      <td>HTML,CSS,vanilla Javascript</td>\n",
              "      <td>Chile</td>\n",
              "      <td>\"https://storage.googleapis.com/konfhub-bd9c9....</td>\n",
              "      <td>Antarctic Peninsula (from San Antonio, Chile)</td>\n",
              "      <td>Antarcticonf, Antarcticonf The Conference At ...</td>\n",
              "      <td>Antarcticonf The Conference At The Edge Of The...</td>\n",
              "      <td></td>\n",
              "      <td>-55.76583500000004</td>\n",
              "      <td>21 Jan, 2020</td>\n",
              "      <td>1.564559e+09</td>\n",
              "      <td>-32.522779</td>\n",
              "      <td>1560144629</td>\n",
              "      <td>https://antarcticonf.com/</td>\n",
              "      <td>05 Jan, 2020</td>\n",
              "      <td>Paid</td>\n",
              "      <td>https://antarcticonf.com/</td>\n",
              "    </tr>\n",
              "    <tr>\n",
              "      <th>1</th>\n",
              "      <td></td>\n",
              "      <td>Delhi</td>\n",
              "      <td></td>\n",
              "      <td>Cloud, HTML</td>\n",
              "      <td>India</td>\n",
              "      <td>\"https://storage.googleapis.com/konfhub-bd9c9....</td>\n",
              "      <td>Delhi Technological University, Shahbad Daulat...</td>\n",
              "      <td>Trion All India Bootcamp, Technology, Trion A...</td>\n",
              "      <td>Trion All India Bootcamp</td>\n",
              "      <td>Delhi</td>\n",
              "      <td>77.11831370000004</td>\n",
              "      <td>20 Jan, 2020</td>\n",
              "      <td>1.578397e+09</td>\n",
              "      <td>28.7499867</td>\n",
              "      <td>1578287153</td>\n",
              "      <td>https://konfhub.com/trionbootcamp</td>\n",
              "      <td>19 Jan, 2020</td>\n",
              "      <td>Paid</td>\n",
              "      <td>https://konfhub.com/trionbootcamp</td>\n",
              "    </tr>\n",
              "    <tr>\n",
              "      <th>2</th>\n",
              "      <td></td>\n",
              "      <td>Seattle</td>\n",
              "      <td>@deliveryconf</td>\n",
              "      <td>1545112863</td>\n",
              "      <td>USA</td>\n",
              "      <td>\"https://storage.googleapis.com/konfhub-bd9c9....</td>\n",
              "      <td>Hyatt Regency Seattle, Howell Street, Seattle,...</td>\n",
              "      <td>CICD,  Database,  Serverless,  Azure, DELIVER...</td>\n",
              "      <td>DELIVERY CONF</td>\n",
              "      <td>Washington</td>\n",
              "      <td>-122.33397789999998</td>\n",
              "      <td>22 Jan, 2020</td>\n",
              "      <td>1.576040e+09</td>\n",
              "      <td>47.6147059</td>\n",
              "      <td>CICD,  Database,  Serverless,  Azure</td>\n",
              "      <td>https://www.deliveryconf.com</td>\n",
              "      <td>21 Jan, 2020</td>\n",
              "      <td>Paid</td>\n",
              "      <td>https://deliveryconf.busyconf.com/bookings/new</td>\n",
              "    </tr>\n",
              "    <tr>\n",
              "      <th>3</th>\n",
              "      <td></td>\n",
              "      <td>Santa Monica</td>\n",
              "      <td>@AppSecCali</td>\n",
              "      <td>Devops,Building secure API,Web Applications</td>\n",
              "      <td>USA</td>\n",
              "      <td>https://firebasestorage.googleapis.com/v0/b/ko...</td>\n",
              "      <td>Annenberg Community Beach House, 415 Pacific C...</td>\n",
              "      <td>Devops, Building secure API, AppSec Californi...</td>\n",
              "      <td>AppSec California</td>\n",
              "      <td>California</td>\n",
              "      <td>-118.51332330000002</td>\n",
              "      <td>24 Jan, 2020</td>\n",
              "      <td>1.578391e+09</td>\n",
              "      <td>34.0244025</td>\n",
              "      <td>1578287153</td>\n",
              "      <td>https://2020.appseccalifornia.org/</td>\n",
              "      <td>21 Jan, 2020</td>\n",
              "      <td>Paid</td>\n",
              "      <td>https://2020.appseccalifornia.org/</td>\n",
              "    </tr>\n",
              "    <tr>\n",
              "      <th>4</th>\n",
              "      <td></td>\n",
              "      <td>Oslo</td>\n",
              "      <td>@NDC_Conferences</td>\n",
              "      <td>Security, Developer, Software</td>\n",
              "      <td>Norway</td>\n",
              "      <td>\"https://storage.googleapis.com/konfhub-bd9c9....</td>\n",
              "      <td>Clarion Hotel Oslo, Dronning Eufemias gate 15,...</td>\n",
              "      <td>Security, Developer, Software, NDC Security 2...</td>\n",
              "      <td>NDC Security 2020</td>\n",
              "      <td></td>\n",
              "      <td>10.756952700000056</td>\n",
              "      <td>24 Jan, 2020</td>\n",
              "      <td>1.562305e+09</td>\n",
              "      <td>59.9076554</td>\n",
              "      <td>1557129989</td>\n",
              "      <td>https://ndc-security.com/</td>\n",
              "      <td>22 Jan, 2020</td>\n",
              "      <td>Paid</td>\n",
              "      <td>https://ndc-security.com/</td>\n",
              "    </tr>\n",
              "  </tbody>\n",
              "</table>\n",
              "</div>"
            ],
            "text/plain": [
              "  emailId  ...                                      confRegUrl\n",
              "0          ...                       https://antarcticonf.com/\n",
              "1          ...               https://konfhub.com/trionbootcamp\n",
              "2          ...  https://deliveryconf.busyconf.com/bookings/new\n",
              "3          ...              https://2020.appseccalifornia.org/\n",
              "4          ...                       https://ndc-security.com/\n",
              "\n",
              "[5 rows x 19 columns]"
            ]
          },
          "metadata": {
            "tags": []
          },
          "execution_count": 47
        }
      ]
    },
    {
      "cell_type": "code",
      "metadata": {
        "id": "bsYrTeHb80gR",
        "colab_type": "code",
        "colab": {}
      },
      "source": [
        "for info in data['free']:\n",
        "    curdata=[info]\n",
        "    row=[]\n",
        "    for k in curdata[0].keys():\n",
        "      row.append(curdata[0][k])\n",
        "    out.append(row)\n",
        "out\n"
      ],
      "execution_count": 0,
      "outputs": []
    },
    {
      "cell_type": "code",
      "metadata": {
        "id": "oIH15WNHGOrF",
        "colab_type": "code",
        "colab": {}
      },
      "source": [
        "res = [] \n",
        "for i in out: \n",
        "    if i not in res: \n",
        "        res.append(i) "
      ],
      "execution_count": 0,
      "outputs": []
    },
    {
      "cell_type": "code",
      "metadata": {
        "id": "81g7VUSRGgUb",
        "colab_type": "code",
        "colab": {
          "base_uri": "https://localhost:8080/",
          "height": 50
        },
        "outputId": "8af0a4b3-9de0-490b-8a36-9d9f93916660"
      },
      "source": [
        "print(len(out))\n",
        "print(len(res))"
      ],
      "execution_count": 44,
      "outputs": [
        {
          "output_type": "stream",
          "text": [
            "131\n",
            "130\n"
          ],
          "name": "stdout"
        }
      ]
    },
    {
      "cell_type": "code",
      "metadata": {
        "id": "qQE6lgxeGhqC",
        "colab_type": "code",
        "colab": {
          "base_uri": "https://localhost:8080/",
          "height": 34
        },
        "outputId": "3570da4f-6033-4228-d3cf-b1f984ff5a5a"
      },
      "source": [
        "total=pd.DataFrame(res,columns=['emailId','city','twitter_handle','keywordSupport','country','imageURL','venue','searchTerms','confName','state','long','confEndDate','conference_id','lat','user_id','confUrl','confStartDate','entryType','confRegUrl'])\n",
        "len(total)"
      ],
      "execution_count": 54,
      "outputs": [
        {
          "output_type": "execute_result",
          "data": {
            "text/plain": [
              "130"
            ]
          },
          "metadata": {
            "tags": []
          },
          "execution_count": 54
        }
      ]
    },
    {
      "cell_type": "code",
      "metadata": {
        "id": "QYZunJPHHIW_",
        "colab_type": "code",
        "colab": {}
      },
      "source": [
        "html = total.to_html()\n",
        "\n",
        "#write html to file\n",
        "text_file = open(\"index.html\", \"w\")\n",
        "text_file.write(html)\n",
        "text_file.close()"
      ],
      "execution_count": 0,
      "outputs": []
    },
    {
      "cell_type": "code",
      "metadata": {
        "id": "7TZrPXybHTPA",
        "colab_type": "code",
        "colab": {
          "base_uri": "https://localhost:8080/",
          "height": 585
        },
        "outputId": "5cad5f04-6d72-438e-c89c-8cd4d4ab178f"
      },
      "source": [
        "total.drop_duplicates(subset=['emailId','city','twitter_handle','keywordSupport','country','imageURL','venue','searchTerms','state','long','confEndDate','conference_id','lat','user_id','confUrl','confStartDate','entryType','confRegUrl']).head()"
      ],
      "execution_count": 59,
      "outputs": [
        {
          "output_type": "execute_result",
          "data": {
            "text/html": [
              "<div>\n",
              "<style scoped>\n",
              "    .dataframe tbody tr th:only-of-type {\n",
              "        vertical-align: middle;\n",
              "    }\n",
              "\n",
              "    .dataframe tbody tr th {\n",
              "        vertical-align: top;\n",
              "    }\n",
              "\n",
              "    .dataframe thead th {\n",
              "        text-align: right;\n",
              "    }\n",
              "</style>\n",
              "<table border=\"1\" class=\"dataframe\">\n",
              "  <thead>\n",
              "    <tr style=\"text-align: right;\">\n",
              "      <th></th>\n",
              "      <th>emailId</th>\n",
              "      <th>city</th>\n",
              "      <th>twitter_handle</th>\n",
              "      <th>keywordSupport</th>\n",
              "      <th>country</th>\n",
              "      <th>imageURL</th>\n",
              "      <th>venue</th>\n",
              "      <th>searchTerms</th>\n",
              "      <th>confName</th>\n",
              "      <th>state</th>\n",
              "      <th>long</th>\n",
              "      <th>confEndDate</th>\n",
              "      <th>conference_id</th>\n",
              "      <th>lat</th>\n",
              "      <th>user_id</th>\n",
              "      <th>confUrl</th>\n",
              "      <th>confStartDate</th>\n",
              "      <th>entryType</th>\n",
              "      <th>confRegUrl</th>\n",
              "    </tr>\n",
              "  </thead>\n",
              "  <tbody>\n",
              "    <tr>\n",
              "      <th>0</th>\n",
              "      <td></td>\n",
              "      <td>San Antonio</td>\n",
              "      <td>@shambanit</td>\n",
              "      <td>HTML,CSS,vanilla Javascript</td>\n",
              "      <td>Chile</td>\n",
              "      <td>\"https://storage.googleapis.com/konfhub-bd9c9....</td>\n",
              "      <td>Antarctic Peninsula (from San Antonio, Chile)</td>\n",
              "      <td>Antarcticonf, Antarcticonf The Conference At ...</td>\n",
              "      <td>Antarcticonf The Conference At The Edge Of The...</td>\n",
              "      <td></td>\n",
              "      <td>-55.76583500000004</td>\n",
              "      <td>21 Jan, 2020</td>\n",
              "      <td>1.564559e+09</td>\n",
              "      <td>-32.522779</td>\n",
              "      <td>1560144629</td>\n",
              "      <td>https://antarcticonf.com/</td>\n",
              "      <td>05 Jan, 2020</td>\n",
              "      <td>Paid</td>\n",
              "      <td>https://antarcticonf.com/</td>\n",
              "    </tr>\n",
              "    <tr>\n",
              "      <th>1</th>\n",
              "      <td></td>\n",
              "      <td>Delhi</td>\n",
              "      <td></td>\n",
              "      <td>Cloud, HTML</td>\n",
              "      <td>India</td>\n",
              "      <td>\"https://storage.googleapis.com/konfhub-bd9c9....</td>\n",
              "      <td>Delhi Technological University, Shahbad Daulat...</td>\n",
              "      <td>Trion All India Bootcamp, Technology, Trion A...</td>\n",
              "      <td>Trion All India Bootcamp</td>\n",
              "      <td>Delhi</td>\n",
              "      <td>77.11831370000004</td>\n",
              "      <td>20 Jan, 2020</td>\n",
              "      <td>1.578397e+09</td>\n",
              "      <td>28.7499867</td>\n",
              "      <td>1578287153</td>\n",
              "      <td>https://konfhub.com/trionbootcamp</td>\n",
              "      <td>19 Jan, 2020</td>\n",
              "      <td>Paid</td>\n",
              "      <td>https://konfhub.com/trionbootcamp</td>\n",
              "    </tr>\n",
              "    <tr>\n",
              "      <th>2</th>\n",
              "      <td></td>\n",
              "      <td>Seattle</td>\n",
              "      <td>@deliveryconf</td>\n",
              "      <td>1545112863</td>\n",
              "      <td>USA</td>\n",
              "      <td>\"https://storage.googleapis.com/konfhub-bd9c9....</td>\n",
              "      <td>Hyatt Regency Seattle, Howell Street, Seattle,...</td>\n",
              "      <td>CICD,  Database,  Serverless,  Azure, DELIVER...</td>\n",
              "      <td>DELIVERY CONF</td>\n",
              "      <td>Washington</td>\n",
              "      <td>-122.33397789999998</td>\n",
              "      <td>22 Jan, 2020</td>\n",
              "      <td>1.576040e+09</td>\n",
              "      <td>47.6147059</td>\n",
              "      <td>CICD,  Database,  Serverless,  Azure</td>\n",
              "      <td>https://www.deliveryconf.com</td>\n",
              "      <td>21 Jan, 2020</td>\n",
              "      <td>Paid</td>\n",
              "      <td>https://deliveryconf.busyconf.com/bookings/new</td>\n",
              "    </tr>\n",
              "    <tr>\n",
              "      <th>3</th>\n",
              "      <td></td>\n",
              "      <td>Santa Monica</td>\n",
              "      <td>@AppSecCali</td>\n",
              "      <td>Devops,Building secure API,Web Applications</td>\n",
              "      <td>USA</td>\n",
              "      <td>https://firebasestorage.googleapis.com/v0/b/ko...</td>\n",
              "      <td>Annenberg Community Beach House, 415 Pacific C...</td>\n",
              "      <td>Devops, Building secure API, AppSec Californi...</td>\n",
              "      <td>AppSec California</td>\n",
              "      <td>California</td>\n",
              "      <td>-118.51332330000002</td>\n",
              "      <td>24 Jan, 2020</td>\n",
              "      <td>1.578391e+09</td>\n",
              "      <td>34.0244025</td>\n",
              "      <td>1578287153</td>\n",
              "      <td>https://2020.appseccalifornia.org/</td>\n",
              "      <td>21 Jan, 2020</td>\n",
              "      <td>Paid</td>\n",
              "      <td>https://2020.appseccalifornia.org/</td>\n",
              "    </tr>\n",
              "    <tr>\n",
              "      <th>4</th>\n",
              "      <td></td>\n",
              "      <td>Oslo</td>\n",
              "      <td>@NDC_Conferences</td>\n",
              "      <td>Security, Developer, Software</td>\n",
              "      <td>Norway</td>\n",
              "      <td>\"https://storage.googleapis.com/konfhub-bd9c9....</td>\n",
              "      <td>Clarion Hotel Oslo, Dronning Eufemias gate 15,...</td>\n",
              "      <td>Security, Developer, Software, NDC Security 2...</td>\n",
              "      <td>NDC Security 2020</td>\n",
              "      <td></td>\n",
              "      <td>10.756952700000056</td>\n",
              "      <td>24 Jan, 2020</td>\n",
              "      <td>1.562305e+09</td>\n",
              "      <td>59.9076554</td>\n",
              "      <td>1557129989</td>\n",
              "      <td>https://ndc-security.com/</td>\n",
              "      <td>22 Jan, 2020</td>\n",
              "      <td>Paid</td>\n",
              "      <td>https://ndc-security.com/</td>\n",
              "    </tr>\n",
              "  </tbody>\n",
              "</table>\n",
              "</div>"
            ],
            "text/plain": [
              "  emailId  ...                                      confRegUrl\n",
              "0          ...                       https://antarcticonf.com/\n",
              "1          ...               https://konfhub.com/trionbootcamp\n",
              "2          ...  https://deliveryconf.busyconf.com/bookings/new\n",
              "3          ...              https://2020.appseccalifornia.org/\n",
              "4          ...                       https://ndc-security.com/\n",
              "\n",
              "[5 rows x 19 columns]"
            ]
          },
          "metadata": {
            "tags": []
          },
          "execution_count": 59
        }
      ]
    },
    {
      "cell_type": "code",
      "metadata": {
        "id": "0BHQN4knJi3C",
        "colab_type": "code",
        "colab": {
          "base_uri": "https://localhost:8080/",
          "height": 34
        },
        "outputId": "6035d853-bab2-4438-fa5a-8cae6584cf20"
      },
      "source": [
        "len(total)"
      ],
      "execution_count": 56,
      "outputs": [
        {
          "output_type": "execute_result",
          "data": {
            "text/plain": [
              "130"
            ]
          },
          "metadata": {
            "tags": []
          },
          "execution_count": 56
        }
      ]
    },
    {
      "cell_type": "code",
      "metadata": {
        "id": "vgw07n3UKEOc",
        "colab_type": "code",
        "colab": {}
      },
      "source": [
        ""
      ],
      "execution_count": 0,
      "outputs": []
    }
  ]
}